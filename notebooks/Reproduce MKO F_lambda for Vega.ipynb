{
 "cells": [
  {
   "cell_type": "code",
   "execution_count": 1,
   "metadata": {},
   "outputs": [],
   "source": [
    "from doodads.ref.mko_filters import MKO_FILTERS_VEGA"
   ]
  },
  {
   "cell_type": "code",
   "execution_count": 2,
   "metadata": {},
   "outputs": [],
   "source": [
    "from doodads.ref.mko_filters import MKO"
   ]
  },
  {
   "cell_type": "code",
   "execution_count": 3,
   "metadata": {},
   "outputs": [],
   "source": [
    "from doodads.ref.hst_calspec import OLD_VEGA, VEGA"
   ]
  },
  {
   "cell_type": "code",
   "execution_count": 4,
   "metadata": {},
   "outputs": [
    {
     "name": "stdout",
     "output_type": "stream",
     "text": [
      "J 3.01e-09 W / (m2 um) 2.9832033625654153e-09 W / (m2 um) 0.9910974626463174\n",
      "H 1.18e-09 W / (m2 um) 1.1778067451501926e-09 W / (m2 um) 0.9981413094493157\n",
      "Kprime 4.57e-10 W / (m2 um) 4.6306496095093094e-10 W / (m2 um) 1.0132712493455818\n",
      "Ks 4.35e-10 W / (m2 um) 4.363209182672314e-10 W / (m2 um) 1.0030365937177734\n",
      "K 4e-10 W / (m2 um) 3.9754735362545706e-10 W / (m2 um) 0.9938683840636426\n",
      "Lprime 5.31e-11 W / (m2 um) 5.208593073625998e-11 W / (m2 um) 0.9809026504003762\n",
      "Mprime 2.22e-11 W / (m2 um) 2.197134348167888e-11 W / (m2 um) 0.9897001568323819\n"
     ]
    }
   ],
   "source": [
    "for filt_name in MKO_FILTERS_VEGA:\n",
    "    filt_spec = getattr(MKO, filt_name)\n",
    "    my_F_lambda = (VEGA.multiply(filt_spec).integrate() / filt_spec.integrate()).to(u.W / u.m**2 / u.um)\n",
    "    F_lambda = MKO_FILTERS_VEGA[filt_name]['F_lambda']\n",
    "    print(filt_name, F_lambda, my_F_lambda, my_F_lambda / F_lambda)\n",
    "    assert np.abs((my_F_lambda - F_lambda) / F_lambda) < 0.02"
   ]
  },
  {
   "cell_type": "code",
   "execution_count": null,
   "metadata": {},
   "outputs": [],
   "source": []
  }
 ],
 "metadata": {
  "kernelspec": {
   "display_name": "Python 3",
   "language": "python",
   "name": "python3"
  },
  "language_info": {
   "codemirror_mode": {
    "name": "ipython",
    "version": 3
   },
   "file_extension": ".py",
   "mimetype": "text/x-python",
   "name": "python",
   "nbconvert_exporter": "python",
   "pygments_lexer": "ipython3",
   "version": "3.7.3"
  }
 },
 "nbformat": 4,
 "nbformat_minor": 2
}
