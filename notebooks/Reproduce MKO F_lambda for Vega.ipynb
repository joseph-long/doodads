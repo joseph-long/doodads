{
 "cells": [
  {
   "cell_type": "code",
   "execution_count": 1,
   "metadata": {},
   "outputs": [],
   "source": [
    "from doodads.ref.mko_filters import VEGA_F_LAMBDA"
   ]
  },
  {
   "cell_type": "code",
   "execution_count": 2,
   "metadata": {},
   "outputs": [],
   "source": [
    "from doodads.ref.mko_filters import MKO"
   ]
  },
  {
   "cell_type": "code",
   "execution_count": 3,
   "metadata": {},
   "outputs": [],
   "source": [
    "from doodads.ref.hst_calspec import VEGA"
   ]
  },
  {
   "cell_type": "code",
   "execution_count": 4,
   "metadata": {},
   "outputs": [
    {
     "name": "stdout",
     "output_type": "stream",
     "text": [
      "J \n",
      "\t 3.01e-09 W / (m2 um) \n",
      "\t 2.983731450513005e-09 W / (m2 um) \n",
      "\t 0.9912729071471778\n",
      "H \n",
      "\t 1.18e-09 W / (m2 um) \n",
      "\t 1.1778257321566342e-09 W / (m2 um) \n",
      "\t 0.9981574001327408\n",
      "Kprime \n",
      "\t 4.57e-10 W / (m2 um) \n",
      "\t 4.630709299817681e-10 W / (m2 um) \n",
      "\t 1.0132843106822058\n",
      "Ks \n",
      "\t 4.35e-10 W / (m2 um) \n",
      "\t 4.363209300208837e-10 W / (m2 um) \n",
      "\t 1.0030366207376635\n",
      "K \n",
      "\t 4e-10 W / (m2 um) \n",
      "\t 3.975467989221215e-10 W / (m2 um) \n",
      "\t 0.9938669973053038\n",
      "Lprime \n",
      "\t 5.31e-11 W / (m2 um) \n",
      "\t 5.2086128562223165e-11 W / (m2 um) \n",
      "\t 0.9809063759364061\n",
      "Mprime \n",
      "\t 2.22e-11 W / (m2 um) \n",
      "\t 2.1971292881062252e-11 W / (m2 um) \n",
      "\t 0.9896978775253266\n"
     ]
    }
   ],
   "source": [
    "for filt_name in VEGA_F_LAMBDA:\n",
    "    filt_spec = getattr(MKO, filt_name)\n",
    "    my_F_lambda = (VEGA.multiply(filt_spec).integrate() / filt_spec.integrate()).to(u.W / u.m**2 / u.um)\n",
    "    F_lambda = VEGA_F_LAMBDA[filt_name]['F_lambda']\n",
    "    print(filt_name, '\\n\\t', F_lambda, '\\n\\t', my_F_lambda, '\\n\\t', my_F_lambda / F_lambda)\n",
    "    assert np.abs((my_F_lambda - F_lambda) / F_lambda) < 0.02"
   ]
  },
  {
   "cell_type": "code",
   "execution_count": null,
   "metadata": {},
   "outputs": [],
   "source": []
  }
 ],
 "metadata": {
  "kernelspec": {
   "display_name": "Python 3 (ipykernel)",
   "language": "python",
   "name": "python3"
  },
  "language_info": {
   "codemirror_mode": {
    "name": "ipython",
    "version": 3
   },
   "file_extension": ".py",
   "mimetype": "text/x-python",
   "name": "python",
   "nbconvert_exporter": "python",
   "pygments_lexer": "ipython3",
   "version": "3.9.9"
  }
 },
 "nbformat": 4,
 "nbformat_minor": 4
}
